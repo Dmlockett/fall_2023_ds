{
 "cells": [
  {
   "cell_type": "code",
   "execution_count": 5,
   "id": "18c70fc0",
   "metadata": {},
   "outputs": [
    {
     "name": "stdout",
     "output_type": "stream",
     "text": [
      "Python is fun to learn.\n",
      "Hello World!\n",
      "My name is Deven.\n"
     ]
    }
   ],
   "source": [
    "print(\"Python is fun to learn.\")\n",
    "\n",
    "print(\"Hello World!\")\n",
    "\n",
    "print(\"My name is Deven.\")"
   ]
  },
  {
   "cell_type": "markdown",
   "id": "8381b8ee",
   "metadata": {},
   "source": [
    "deven"
   ]
  },
  {
   "cell_type": "markdown",
   "id": "ff47a43a",
   "metadata": {},
   "source": [
    "Deven"
   ]
  },
  {
   "cell_type": "markdown",
   "id": "5cb42d67",
   "metadata": {},
   "source": [
    "* # Title\n",
    "    * Sub-title\n",
    "    \n",
    "    * *Italic*"
   ]
  },
  {
   "cell_type": "code",
   "execution_count": 6,
   "id": "c6552297",
   "metadata": {},
   "outputs": [
    {
     "data": {
      "text/plain": [
       "\"Lorem Ipsum is simply dummy text of the printing and typesetting industry. Lorem Ipsum has been the industry's standard dummy text ever since the 1500s, when an unknown printer took a galley of type and scrambled it to make a type specimen book. It has survived not only five centuries, but also the leap into electronic typesetting, remaining essentially unchanged. It was popularised in the 1960s with the release of Letraset sheets containing Lorem Ipsum passages, and more recently with desktop publishing software like Aldus PageMaker including versions of Lorem Ipsum.\""
      ]
     },
     "execution_count": 6,
     "metadata": {},
     "output_type": "execute_result"
    }
   ],
   "source": [
    "'''Lorem Ipsum is simply dummy text of the printing and typesetting industry. Lorem Ipsum has been the industry's standard dummy text ever since the 1500s, when an unknown printer took a galley of type and scrambled it to make a type specimen book. It has survived not only five centuries, but also the leap into electronic typesetting, remaining essentially unchanged. It was popularised in the 1960s with the release of Letraset sheets containing Lorem Ipsum passages, and more recently with desktop publishing software like Aldus PageMaker including versions of Lorem Ipsum.'''"
   ]
  },
  {
   "cell_type": "code",
   "execution_count": null,
   "id": "0a2ac15c",
   "metadata": {},
   "outputs": [],
   "source": []
  }
 ],
 "metadata": {
  "kernelspec": {
   "display_name": "Python 3 (ipykernel)",
   "language": "python",
   "name": "python3"
  },
  "language_info": {
   "codemirror_mode": {
    "name": "ipython",
    "version": 3
   },
   "file_extension": ".py",
   "mimetype": "text/x-python",
   "name": "python",
   "nbconvert_exporter": "python",
   "pygments_lexer": "ipython3",
   "version": "3.11.4"
  }
 },
 "nbformat": 4,
 "nbformat_minor": 5
}
